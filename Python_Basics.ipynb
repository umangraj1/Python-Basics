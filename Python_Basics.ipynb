{
  "nbformat": 4,
  "nbformat_minor": 0,
  "metadata": {
    "colab": {
      "provenance": []
    },
    "kernelspec": {
      "name": "python3",
      "display_name": "Python 3"
    },
    "language_info": {
      "name": "python"
    }
  },
  "cells": [
    {
      "cell_type": "markdown",
      "source": [
        "#Python Basics Questions\n",
        "\n",
        "1. What is Python, and why is it popular?\n",
        "    - Python is a high-level, interpreted programming language known for its simple and readable syntax.\n",
        "    - It is popular because:\n",
        "        - Python code looks almost like English, making it easy to learn and understand.\n",
        "        - Comes with many built-in modules and functions to perform various tasks.\n",
        "        - Can be used for web development, data analysis, AI/ML, automation, software development, and more.\n",
        "\n",
        "2. What is an interpreter in Python?\n",
        "    - An interpreter in Python is a program that executes Python code line by line, converting it into machine code at runtime.\n",
        "\n",
        "3. What are pre-defined keywords in Python?\n",
        "    - Pre-defined keywords in Python are the reserved words that has a special meaning and cannot be used as variable name.\n",
        "    - Examples: if, else, while, for, import, etc\n",
        "\n",
        "4. Can keywords be used as variable names?\n",
        "    - No, Keywords can not be used as variable name.\n",
        "\n",
        "5. What is mutability in Python?\n",
        "    - Mutability in python means wheather an object can be changed after creation.\n",
        "        - Mutable objects: That can be changed. (eg. list, dict, set)\n",
        "        - Immutable objects: Cannot be changed. (eg. string, tuple)\n",
        "\n",
        "6. Why are lists mutable, but tuples are immutable?\n",
        "    - List are mutable because:\n",
        "        -  Lists are meant for dynamic data - we often need to add, remove, or modify elements.\n",
        "        - Python allows lists to grow or shrink as needed, which is useful for tasks like loops, data collection, etc.\n",
        "    - Tuples are immutable because:\n",
        "        - Tuples are faster and use less memory because they do not need to track changes.\n",
        "        - Being unchangeable makes them ideal for fixed data.\n",
        "\n",
        "7. What is the difference between “==” and “is” operators in Python?\n",
        "    - \"==\" checks equality - whether values are the same.\n",
        "    - is checks identity - whether both refer to the same object in memory.\n",
        "\n",
        "8. What are logical operators in Python?\n",
        "    - Logical operators in Python are used to combine conditional statements. They return True or False.\n",
        "\n",
        "9. What is type casting in Python?\n",
        "    - Type casting in Python means converting one data type into another.\n",
        "\n",
        "10. What is the difference between implicit and explicit type casting?\n",
        "    - Implicit type casting:\n",
        "        - Done automatically by Python.\n",
        "        - No data loss, safe conversion.\n",
        "    - Explicit type casting:\n",
        "        - Done manually by the programmer using functions like int(), float(), str().\n",
        "\n",
        "11. What is the purpose of conditional statements in Python?\n",
        "    - The purpose of conditional statements in Python is to control the flow of a program by executing code only if certain conditions are met.\n",
        "        - Conditional statements in python are:\n",
        "            - if\n",
        "            - elif\n",
        "            - else\n",
        "\n",
        "12.  How does the elif statement work?\n",
        "    - The elif (short for else if) statement checks another condition if the previous if was False.\n",
        "    \n",
        "13. What is the difference between for and while loops?\n",
        "    - for Loops\n",
        "        - Used when number of iterations is known.\n",
        "        - Automatic increment in iteration.\n",
        "    - while loop\n",
        "        - Used when condition-based looping is needed.\n",
        "        - Manually update variables.\n",
        "\n",
        "14. Describe a scenario where a while loop is more suitable than a for loop.\n",
        "    - A while loop is better when you do not know how many times the user will need to try - like in login systems.\n"
      ],
      "metadata": {
        "id": "SUCm1xn45SlD"
      }
    },
    {
      "cell_type": "markdown",
      "source": [
        "# Practical Questions"
      ],
      "metadata": {
        "id": "miGDNQzW19hY"
      }
    },
    {
      "cell_type": "code",
      "execution_count": 2,
      "metadata": {
        "colab": {
          "base_uri": "https://localhost:8080/"
        },
        "id": "wU0mfAeD4rDV",
        "outputId": "0df2397d-6b66-41c3-d180-bb8892837c7d"
      },
      "outputs": [
        {
          "output_type": "stream",
          "name": "stdout",
          "text": [
            "Hello, World!\n"
          ]
        }
      ],
      "source": [
        "# 1. Write a Python program to print \"Hello, World!\n",
        "print(\"Hello, World!\")"
      ]
    },
    {
      "cell_type": "code",
      "source": [
        "# 2. Write a Python program that displays your name and age\n",
        "print(\"My name is Umang Raj\")\n",
        "print(\"I am 20 years old\")"
      ],
      "metadata": {
        "colab": {
          "base_uri": "https://localhost:8080/"
        },
        "id": "jyxYSjCt2Mpb",
        "outputId": "13512d27-9c5a-4ab8-c9e2-9d325018cfa9"
      },
      "execution_count": 3,
      "outputs": [
        {
          "output_type": "stream",
          "name": "stdout",
          "text": [
            "My name is Umang Raj\n",
            "I am 20 years old\n"
          ]
        }
      ]
    },
    {
      "cell_type": "code",
      "source": [
        "# 3. Write code to print all the pre-defined keywords in Python using the keyword library.\n",
        "import keyword\n",
        "print(keyword.kwlist)"
      ],
      "metadata": {
        "colab": {
          "base_uri": "https://localhost:8080/"
        },
        "id": "RC9cgXxI2urh",
        "outputId": "7377fa65-53e5-4b2e-dddc-8fa918f412f9"
      },
      "execution_count": 5,
      "outputs": [
        {
          "output_type": "stream",
          "name": "stdout",
          "text": [
            "['False', 'None', 'True', 'and', 'as', 'assert', 'async', 'await', 'break', 'class', 'continue', 'def', 'del', 'elif', 'else', 'except', 'finally', 'for', 'from', 'global', 'if', 'import', 'in', 'is', 'lambda', 'nonlocal', 'not', 'or', 'pass', 'raise', 'return', 'try', 'while', 'with', 'yield']\n"
          ]
        }
      ]
    },
    {
      "cell_type": "code",
      "source": [
        "# 4. Write a program that checks if a given word is a Python keyword.\n",
        "import keyword\n",
        "word = input(\"Enter a keyword: \")\n",
        "if keyword.iskeyword(word):\n",
        "    print(f\"{word} is a keyword\")\n",
        "else:\n",
        "    print(\"Not a keyword\")"
      ],
      "metadata": {
        "colab": {
          "base_uri": "https://localhost:8080/"
        },
        "id": "9QrmD4hL3I-q",
        "outputId": "325d9f02-7351-4787-b58c-6c5c131cfa99"
      },
      "execution_count": 12,
      "outputs": [
        {
          "output_type": "stream",
          "name": "stdout",
          "text": [
            "Enter a keyword: False\n",
            "False is a keyword\n"
          ]
        }
      ]
    },
    {
      "cell_type": "code",
      "source": [
        "# 5.  Create a list and tuple in Python, and demonstrate how attempting to change an element works differently for each\n",
        "\n",
        "num = [1, 2, 3, 4, 5, 6, 7]\n",
        "num.append(8)\n",
        "print(num)  #shows no error while making changes\n",
        "\n",
        "num2 = (1, 2, 3, 4, 5)\n",
        "num2.append(7)  # This line will cause an AttributeError because tuples are immutable\n",
        "print(num2)  # shows error while making changes"
      ],
      "metadata": {
        "colab": {
          "base_uri": "https://localhost:8080/",
          "height": 216
        },
        "id": "XKpc0JNk34Ox",
        "outputId": "10180f28-aa45-450e-c169-0c1abd8fa6d2"
      },
      "execution_count": 14,
      "outputs": [
        {
          "output_type": "stream",
          "name": "stdout",
          "text": [
            "[1, 2, 3, 4, 5, 6, 7, 8]\n"
          ]
        },
        {
          "output_type": "error",
          "ename": "AttributeError",
          "evalue": "'tuple' object has no attribute 'append'",
          "traceback": [
            "\u001b[0;31m---------------------------------------------------------------------------\u001b[0m",
            "\u001b[0;31mAttributeError\u001b[0m                            Traceback (most recent call last)",
            "\u001b[0;32m/tmp/ipython-input-14-3542883170.py\u001b[0m in \u001b[0;36m<cell line: 0>\u001b[0;34m()\u001b[0m\n\u001b[1;32m      6\u001b[0m \u001b[0;34m\u001b[0m\u001b[0m\n\u001b[1;32m      7\u001b[0m \u001b[0mnum2\u001b[0m \u001b[0;34m=\u001b[0m \u001b[0;34m(\u001b[0m\u001b[0;36m1\u001b[0m\u001b[0;34m,\u001b[0m \u001b[0;36m2\u001b[0m\u001b[0;34m,\u001b[0m \u001b[0;36m3\u001b[0m\u001b[0;34m,\u001b[0m \u001b[0;36m4\u001b[0m\u001b[0;34m,\u001b[0m \u001b[0;36m5\u001b[0m\u001b[0;34m)\u001b[0m\u001b[0;34m\u001b[0m\u001b[0;34m\u001b[0m\u001b[0m\n\u001b[0;32m----> 8\u001b[0;31m \u001b[0mnum2\u001b[0m\u001b[0;34m.\u001b[0m\u001b[0mappend\u001b[0m\u001b[0;34m(\u001b[0m\u001b[0;36m7\u001b[0m\u001b[0;34m)\u001b[0m\u001b[0;34m\u001b[0m\u001b[0;34m\u001b[0m\u001b[0m\n\u001b[0m\u001b[1;32m      9\u001b[0m \u001b[0mprint\u001b[0m\u001b[0;34m(\u001b[0m\u001b[0mnum2\u001b[0m\u001b[0;34m)\u001b[0m\u001b[0;34m\u001b[0m\u001b[0;34m\u001b[0m\u001b[0m\n",
            "\u001b[0;31mAttributeError\u001b[0m: 'tuple' object has no attribute 'append'"
          ]
        }
      ]
    },
    {
      "cell_type": "code",
      "source": [
        "# 6. Write a function to demonstrate the behavior of mutable and immutable arguments.\n",
        "def modify_values(a, b):\n",
        "    a += 1          # Immutable - will not affect original\n",
        "    b.append(4)     # Mutable - will affect original\n",
        "    print(\"Inside function:\")\n",
        "    print(\"a =\", a)\n",
        "    print(\"b =\", b)\n",
        "\n",
        "x = 10\n",
        "y = [1, 2, 3]\n",
        "\n",
        "modify_values(x, y)\n",
        "print()\n",
        "print(\"Outside function:\")\n",
        "print(\"x =\", x)\n",
        "print(\"y =\", y)"
      ],
      "metadata": {
        "colab": {
          "base_uri": "https://localhost:8080/"
        },
        "id": "I4pDkeU15GgO",
        "outputId": "e49ee971-caf2-4391-de06-6e2a52864034"
      },
      "execution_count": 16,
      "outputs": [
        {
          "output_type": "stream",
          "name": "stdout",
          "text": [
            "Inside function:\n",
            "a = 11\n",
            "b = [1, 2, 3, 4]\n",
            "\n",
            "Outside function:\n",
            "x = 10\n",
            "y = [1, 2, 3, 4]\n"
          ]
        }
      ]
    },
    {
      "cell_type": "code",
      "source": [
        "# 7. Write a program that performs basic arithmetic operations on two user-input numbers.\n",
        "\n",
        "num1 = int(input(\"Enter first number: \"))\n",
        "num2 = int(input(\"Enter second number: \"))\n",
        "\n",
        "sum = num1 + num2\n",
        "print(f\"{num1} + {num2} = {sum}\")\n",
        "\n",
        "sub = num1 - num2\n",
        "print(f\"{num1} - {num2} = {sub}\")\n",
        "\n",
        "mul = num1 * num2\n",
        "print(f\"{num1} x {num2} = {mul}\")\n",
        "\n",
        "div = num1 / num2\n",
        "print(f\"{num1} / {num2} = {div}\")"
      ],
      "metadata": {
        "colab": {
          "base_uri": "https://localhost:8080/"
        },
        "id": "aYk2bpXZ68la",
        "outputId": "91d65871-c25a-449e-8f3e-57516b8c1f5e"
      },
      "execution_count": 17,
      "outputs": [
        {
          "output_type": "stream",
          "name": "stdout",
          "text": [
            "Enter first number: 13\n",
            "Enter second number: 4\n",
            "13 + 4 = 17\n",
            "13 - 4 = 9\n",
            "13 x 4 = 52\n",
            "13 / 4 = 3.25\n"
          ]
        }
      ]
    },
    {
      "cell_type": "code",
      "source": [
        "#8. Write a program to demonstrate the use of logical operators.\n",
        "num1 = 6\n",
        "if(num1%2 == 0) and (num1>0):\n",
        "    print(\"The number is even and positive\")\n",
        "elif(num1%2 == 0) and (num1<0):\n",
        "    print(\"The number is even and negative\")\n",
        "elif(num1%2 != 0) and (num1>0):\n",
        "    print(\"The number is odd and positive\")\n",
        "else:\n",
        "    print(\"The number is odd and negative\")\n"
      ],
      "metadata": {
        "colab": {
          "base_uri": "https://localhost:8080/"
        },
        "id": "1lPTo5NJ7991",
        "outputId": "33b9216c-c7cc-4f9d-e64a-43fab4ee58c6"
      },
      "execution_count": 20,
      "outputs": [
        {
          "output_type": "stream",
          "name": "stdout",
          "text": [
            "The number is even and positive\n"
          ]
        }
      ]
    },
    {
      "cell_type": "code",
      "source": [
        "# 9. Write a Python program to convert user input from string to integer, float, and boolean types.\n",
        "num1 = int(input(\"Enter the number: \"))\n",
        "num2 = float(input(\"Enter the decimal number: \"))\n",
        "num3 = bool(input(\"Enter True or False: \"))\n",
        "\n",
        "print(num1)\n",
        "print(num2)\n",
        "print(num3)"
      ],
      "metadata": {
        "colab": {
          "base_uri": "https://localhost:8080/"
        },
        "id": "Q3rNgtiR8xTr",
        "outputId": "8a45e459-0d13-4fe8-8eff-e85234971c31"
      },
      "execution_count": 24,
      "outputs": [
        {
          "output_type": "stream",
          "name": "stdout",
          "text": [
            "Enter the number: 7637\n",
            "Enter the decimal number: 77.6\n",
            "Enter True or False: False\n",
            "7637\n",
            "77.6\n",
            "True\n"
          ]
        }
      ]
    },
    {
      "cell_type": "code",
      "source": [
        "# 10. Write code to demonstrate type casting with list elements.\n",
        "str_list = ['1', '2', '3', '4']\n",
        "\n",
        "int_list = []\n",
        "\n",
        "for item in str_list:\n",
        "    num = int(item)\n",
        "    int_list.append(num)\n",
        "\n",
        "print(int_list)"
      ],
      "metadata": {
        "colab": {
          "base_uri": "https://localhost:8080/"
        },
        "id": "UVGjJ3KF9zVm",
        "outputId": "14c2daa2-233a-4212-e1bf-de1cf8c6dc61"
      },
      "execution_count": 26,
      "outputs": [
        {
          "output_type": "stream",
          "name": "stdout",
          "text": [
            "[1, 2, 3, 4]\n"
          ]
        }
      ]
    },
    {
      "cell_type": "code",
      "source": [
        "# 11. Write a program that checks if a number is positive, negative, or zero.\n",
        "\n",
        "num = int(input(\"Enter the number: \"))\n",
        "if(num>0):\n",
        "    print(f\"{num} is positive number\")\n",
        "elif(num<0):\n",
        "    print(f\"{num} is negative number\")\n",
        "else:\n",
        "    print(\"Number is zero\")"
      ],
      "metadata": {
        "colab": {
          "base_uri": "https://localhost:8080/"
        },
        "id": "6C0dlST9MuEj",
        "outputId": "f03ba192-654f-45d2-9eb4-591e34f62524"
      },
      "execution_count": 29,
      "outputs": [
        {
          "output_type": "stream",
          "name": "stdout",
          "text": [
            "Enter the number: -1\n",
            "-1 is negative number\n"
          ]
        }
      ]
    },
    {
      "cell_type": "code",
      "source": [
        "#12. Write a for loop to print numbers from 1 to 10.\n",
        "for i in range(1, 11):\n",
        "    print(i)"
      ],
      "metadata": {
        "colab": {
          "base_uri": "https://localhost:8080/"
        },
        "id": "5Xek10HJO0H0",
        "outputId": "e2d0d70c-5b8d-471c-d46f-6d02b89a3c75"
      },
      "execution_count": 30,
      "outputs": [
        {
          "output_type": "stream",
          "name": "stdout",
          "text": [
            "1\n",
            "2\n",
            "3\n",
            "4\n",
            "5\n",
            "6\n",
            "7\n",
            "8\n",
            "9\n",
            "10\n"
          ]
        }
      ]
    },
    {
      "cell_type": "code",
      "source": [
        "#13.  Write a Python program to find the sum of all even numbers between 1 and 50.\n",
        "sum =0\n",
        "for i in range(1, 51):\n",
        "    if(i%2==0):\n",
        "        sum = sum+i\n",
        "print(sum)"
      ],
      "metadata": {
        "colab": {
          "base_uri": "https://localhost:8080/"
        },
        "id": "7KN8sSkzPA7W",
        "outputId": "f4b738f0-a95f-43ba-d39d-a1d374af98ea"
      },
      "execution_count": 39,
      "outputs": [
        {
          "output_type": "stream",
          "name": "stdout",
          "text": [
            "650\n"
          ]
        }
      ]
    },
    {
      "cell_type": "code",
      "source": [
        "#14. Write a program to reverse a string using a while loop.\n",
        "\n",
        "text = input(\"Enter a string: \")\n",
        "\n",
        "reversed_text = \"\"\n",
        "index = len(text) - 1\n",
        "\n",
        "while index >= 0:\n",
        "    reversed_text += text[index]\n",
        "    index -= 1\n",
        "\n",
        "print(\"Reversed string:\", reversed_text)"
      ],
      "metadata": {
        "colab": {
          "base_uri": "https://localhost:8080/"
        },
        "id": "jsDHyinEPloz",
        "outputId": "84246cd1-2bc3-4037-a350-7e7662b6b0a7"
      },
      "execution_count": 1,
      "outputs": [
        {
          "output_type": "stream",
          "name": "stdout",
          "text": [
            "Enter a string: Umang\n",
            "Reversed string: gnamU\n"
          ]
        }
      ]
    },
    {
      "cell_type": "code",
      "source": [
        "# 15. Write a Python program to calculate the factorial of a number provided by the user using a while loop.\n",
        "\n",
        "num = int(input(\"Enter a number: \"))\n",
        "sum = 1\n",
        "for i in range(1, num+1):\n",
        "    sum = sum*i\n",
        "print(sum)"
      ],
      "metadata": {
        "colab": {
          "base_uri": "https://localhost:8080/"
        },
        "id": "oi0RX9YMZSqX",
        "outputId": "72eca00d-309c-47ad-9245-efef5868abe3"
      },
      "execution_count": 15,
      "outputs": [
        {
          "output_type": "stream",
          "name": "stdout",
          "text": [
            "Enter a number: 5\n",
            "120\n"
          ]
        }
      ]
    },
    {
      "cell_type": "code",
      "source": [],
      "metadata": {
        "id": "IQadCC-tkP4F"
      },
      "execution_count": null,
      "outputs": []
    }
  ]
}